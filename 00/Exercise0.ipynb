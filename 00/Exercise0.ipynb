{
 "cells": [
  {
   "cell_type": "code",
   "execution_count": 65,
   "id": "323fc8b5-40e1-4544-8302-48aa6ee57844",
   "metadata": {},
   "outputs": [],
   "source": [
    "import torch\n",
    "import torch.nn as nn\n",
    "import torch.optim as optim\n",
    "import torchvision\n",
    "import torchvision.transforms as transforms\n",
    "import torch.nn.functional as F\n",
    "from torch.utils.tensorboard import SummaryWriter"
   ]
  },
  {
   "cell_type": "markdown",
   "id": "e0bede26-1d3d-4bc8-bd56-509bc41e535b",
   "metadata": {},
   "source": [
    "## TASK 0.1 "
   ]
  },
  {
   "cell_type": "code",
   "execution_count": 67,
   "id": "27a8ab59-8d6f-4cf1-a83c-c4319fbc4b26",
   "metadata": {},
   "outputs": [],
   "source": [
    "#Setup TensorBoard Writer\n",
    "writer = SummaryWriter()"
   ]
  },
  {
   "cell_type": "code",
   "execution_count": 69,
   "id": "89183e33-a78f-4007-bbb0-1013ef16b9d4",
   "metadata": {},
   "outputs": [
    {
     "name": "stdout",
     "output_type": "stream",
     "text": [
      "Files already downloaded and verified\n",
      "Files already downloaded and verified\n"
     ]
    }
   ],
   "source": [
    "#Download and prepare CIFAR-10 dataset \n",
    "\n",
    "transform = transforms.Compose(\n",
    "    [transforms.ToTensor(),\n",
    "     transforms.Normalize((0.5, 0.5, 0.5), (0.5, 0.5, 0.5))])\n",
    "\n",
    "trainset = torchvision.datasets.CIFAR10(root='.data',train=True, download=True, transform=transform)\n",
    "trainloader = torch.utils.data.DataLoader(trainset, batch_size=64, shuffle=True)\n",
    "\n",
    "testset = torchvision.datasets.CIFAR10(root='data',train=False, download=True, transform=transform)\n",
    "testloader = torch.utils.data.DataLoader(testset, batch_size=64, shuffle=True)"
   ]
  },
  {
   "cell_type": "code",
   "execution_count": 70,
   "id": "caffd890-aefa-4f60-a62f-86362c142870",
   "metadata": {},
   "outputs": [],
   "source": [
    "classes = ('plane', 'car', 'bird', 'cat',\n",
    "           'deer', 'dog', 'frog', 'horse', 'ship', 'truck')"
   ]
  },
  {
   "cell_type": "code",
   "execution_count": 73,
   "id": "f6d22d30-9405-4f00-9d0f-c1ca4d8365a5",
   "metadata": {},
   "outputs": [],
   "source": [
    "# Net 1 w/ leaky ReLU\n",
    "class Net1(nn.Module):\n",
    "    def __init__(self):\n",
    "        super(Net1, self).__init__()\n",
    "        self.conv1 = nn.Conv2d(3, 6, 5)\n",
    "        self.pool = nn.MaxPool2d(2,2)\n",
    "        self.conv2 = nn.Conv2d(6,16,5)\n",
    "        self.fc1 = nn.Linear(16 * 5 * 5, 120)\n",
    "        self.fc2 = nn.Linear(120, 84)\n",
    "        self.fc3 = nn.Linear(84, 10)\n",
    "\n",
    "    def forward(self, x):\n",
    "        x = self.pool(F.leaky_relu(self.conv1(x)))\n",
    "        x = self.pool(F.leaky_relu(self.conv2(x)))\n",
    "        x = x.view(-1, 16*5*5)\n",
    "        x = F.leaky_relu(self.fc1(x))\n",
    "        x = F.leaky_relu(self.fc2(x))\n",
    "        x = self.fc3(x)\n",
    "        return x\n",
    "\n",
    "# Net 2 w/ tanh\n",
    "class Net2(nn.Module):\n",
    "    def __init__(self):\n",
    "        super(Net2, self).__init__()\n",
    "        self.conv1 = nn.Conv2d(3, 6, 5)\n",
    "        self.pool = nn.MaxPool2d(2,2)\n",
    "        self.conv2 = nn.Conv2d(6,16,5)\n",
    "        self.fc1 = nn.Linear(16 * 5 * 5, 120)\n",
    "        self.fc2 = nn.Linear(120, 84)\n",
    "        self.fc3 = nn.Linear(84, 10)\n",
    "\n",
    "    def forward(self, x):\n",
    "        x = self.pool(F.tanh(self.conv1(x)))\n",
    "        x = self.pool(F.tanh(self.conv2(x)))\n",
    "        x = x.view(-1, 16*5*5)\n",
    "        x = F.tanh(self.fc1(x))\n",
    "        x = F.tanh(self.fc2(x))\n",
    "        x = self.fc3(x)\n",
    "        return x\n",
    "\n",
    "net1 = Net1()       \n",
    "net2 = Net2()   "
   ]
  },
  {
   "cell_type": "code",
   "execution_count": 75,
   "id": "71d6c748-67b2-4cfd-8ad8-9115744a6504",
   "metadata": {},
   "outputs": [],
   "source": [
    "criterion = nn.CrossEntropyLoss()\n",
    "optimizer1 = optim.SGD(net.parameters(), lr=0.001, momentum=0.9)\n",
    "optimizer2 = optim.Adam(net.parameters(), lr=0.001)"
   ]
  },
  {
   "cell_type": "code",
   "execution_count": 77,
   "id": "0aef5d49-b2d5-4d95-ab66-5da7ec882efa",
   "metadata": {},
   "outputs": [
    {
     "name": "stdout",
     "output_type": "stream",
     "text": [
      "Finished Training Net1_LeakyReLU, SGD\n",
      "Finished Training Net1_LeakyReLU, Adam\n",
      "Finished Training Net2_Tanh, SGD\n",
      "Finished Training Net2_Tanh, Adam\n"
     ]
    }
   ],
   "source": [
    "# Training function\n",
    "def train_model(model, optimizer, name):\n",
    "    for epoch in range(2):  # Train for 2 epochs\n",
    "        running_loss = 0.0\n",
    "        for i, data in enumerate(trainloader, 0):\n",
    "            inputs, labels = data\n",
    "\n",
    "            optimizer.zero_grad()\n",
    "            outputs = model(inputs)\n",
    "            loss = criterion(outputs, labels)\n",
    "            loss.backward()\n",
    "            optimizer.step()\n",
    "\n",
    "            running_loss += loss.item()\n",
    "\n",
    "            # Log loss to TensorBoard\n",
    "            if i % 100 == 99:\n",
    "                writer.add_scalar(f\"Loss/{name}\", running_loss / 100, epoch * len(trainloader) + i)\n",
    "                running_loss = 0.0\n",
    "\n",
    "    print(f'Finished Training {name}')\n",
    "\n",
    "# Train both models\n",
    "train_model(net1, optimizer1, \"Net1_LeakyReLU, SGD\")\n",
    "train_model(net1, optimizer2, \"Net1_LeakyReLU, Adam\")\n",
    "train_model(net2, optimizer1, \"Net2_Tanh, SGD\")\n",
    "train_model(net2, optimizer2, \"Net2_Tanh, Adam\")\n",
    "\n",
    "# Close TensorBoard writer\n",
    "writer.close()"
   ]
  }
 ],
 "metadata": {
  "kernelspec": {
   "display_name": "Python [conda env:nnlm]",
   "language": "python",
   "name": "conda-env-nnlm-py"
  },
  "language_info": {
   "codemirror_mode": {
    "name": "ipython",
    "version": 3
   },
   "file_extension": ".py",
   "mimetype": "text/x-python",
   "name": "python",
   "nbconvert_exporter": "python",
   "pygments_lexer": "ipython3",
   "version": "3.8.20"
  }
 },
 "nbformat": 4,
 "nbformat_minor": 5
}
